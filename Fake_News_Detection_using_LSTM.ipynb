{
  "nbformat": 4,
  "nbformat_minor": 0,
  "metadata": {
    "colab": {
      "name": "Fake News Detection using LSTM",
      "provenance": [],
      "collapsed_sections": [],
      "include_colab_link": true
    },
    "kernelspec": {
      "display_name": "Python 3",
      "name": "python3"
    },
    "language_info": {
      "name": "python"
    }
  },
  "cells": [
    {
      "cell_type": "markdown",
      "metadata": {
        "id": "view-in-github",
        "colab_type": "text"
      },
      "source": [
        "<a href=\"https://colab.research.google.com/github/aniketAnvekar/Fake-News-Detection/blob/main/Fake_News_Detection_using_LSTM.ipynb\" target=\"_parent\"><img src=\"https://colab.research.google.com/assets/colab-badge.svg\" alt=\"Open In Colab\"/></a>"
      ]
    },
    {
      "cell_type": "code",
      "metadata": {
        "colab": {
          "base_uri": "https://localhost:8080/"
        },
        "id": "BccHmLHgeDpe",
        "outputId": "33dd8e11-5266-4e90-eaaa-377ae4e4e5fa"
      },
      "source": [
        "from google.colab import drive\n",
        "drive.mount('/content/drive',force_remount=False)"
      ],
      "execution_count": null,
      "outputs": [
        {
          "output_type": "stream",
          "name": "stdout",
          "text": [
            "Drive already mounted at /content/drive; to attempt to forcibly remount, call drive.mount(\"/content/drive\", force_remount=True).\n"
          ]
        }
      ]
    },
    {
      "cell_type": "code",
      "metadata": {
        "id": "gLWDs2xFegzq"
      },
      "source": [
        "import numpy as np\n",
        "import pandas as pd\n",
        "import matplotlib.pyplot as plt\n",
        "import seaborn as sns\n",
        "from datetime import datetime\n",
        "\n",
        "import warnings\n",
        "warnings.filterwarnings('ignore')\n",
        "\n",
        "import tensorflow as tf"
      ],
      "execution_count": null,
      "outputs": []
    },
    {
      "cell_type": "code",
      "metadata": {
        "colab": {
          "base_uri": "https://localhost:8080/",
          "height": 204
        },
        "id": "nbGDn0-Efk3f",
        "outputId": "c748648d-1550-4b4c-909b-6bc21da7feff"
      },
      "source": [
        "#Fake News\n",
        "fake_news = pd.read_csv(\"/content/drive/MyDrive/Fake news Dataset/Fake.csv\")\n",
        "fake_news.head()"
      ],
      "execution_count": null,
      "outputs": [
        {
          "output_type": "execute_result",
          "data": {
            "text/html": [
              "<div>\n",
              "<style scoped>\n",
              "    .dataframe tbody tr th:only-of-type {\n",
              "        vertical-align: middle;\n",
              "    }\n",
              "\n",
              "    .dataframe tbody tr th {\n",
              "        vertical-align: top;\n",
              "    }\n",
              "\n",
              "    .dataframe thead th {\n",
              "        text-align: right;\n",
              "    }\n",
              "</style>\n",
              "<table border=\"1\" class=\"dataframe\">\n",
              "  <thead>\n",
              "    <tr style=\"text-align: right;\">\n",
              "      <th></th>\n",
              "      <th>title</th>\n",
              "      <th>text</th>\n",
              "      <th>subject</th>\n",
              "      <th>date</th>\n",
              "    </tr>\n",
              "  </thead>\n",
              "  <tbody>\n",
              "    <tr>\n",
              "      <th>0</th>\n",
              "      <td>Donald Trump Sends Out Embarrassing New Year’...</td>\n",
              "      <td>Donald Trump just couldn t wish all Americans ...</td>\n",
              "      <td>News</td>\n",
              "      <td>December 31, 2017</td>\n",
              "    </tr>\n",
              "    <tr>\n",
              "      <th>1</th>\n",
              "      <td>Drunk Bragging Trump Staffer Started Russian ...</td>\n",
              "      <td>House Intelligence Committee Chairman Devin Nu...</td>\n",
              "      <td>News</td>\n",
              "      <td>December 31, 2017</td>\n",
              "    </tr>\n",
              "    <tr>\n",
              "      <th>2</th>\n",
              "      <td>Sheriff David Clarke Becomes An Internet Joke...</td>\n",
              "      <td>On Friday, it was revealed that former Milwauk...</td>\n",
              "      <td>News</td>\n",
              "      <td>December 30, 2017</td>\n",
              "    </tr>\n",
              "    <tr>\n",
              "      <th>3</th>\n",
              "      <td>Trump Is So Obsessed He Even Has Obama’s Name...</td>\n",
              "      <td>On Christmas day, Donald Trump announced that ...</td>\n",
              "      <td>News</td>\n",
              "      <td>December 29, 2017</td>\n",
              "    </tr>\n",
              "    <tr>\n",
              "      <th>4</th>\n",
              "      <td>Pope Francis Just Called Out Donald Trump Dur...</td>\n",
              "      <td>Pope Francis used his annual Christmas Day mes...</td>\n",
              "      <td>News</td>\n",
              "      <td>December 25, 2017</td>\n",
              "    </tr>\n",
              "  </tbody>\n",
              "</table>\n",
              "</div>"
            ],
            "text/plain": [
              "                                               title  ...               date\n",
              "0   Donald Trump Sends Out Embarrassing New Year’...  ...  December 31, 2017\n",
              "1   Drunk Bragging Trump Staffer Started Russian ...  ...  December 31, 2017\n",
              "2   Sheriff David Clarke Becomes An Internet Joke...  ...  December 30, 2017\n",
              "3   Trump Is So Obsessed He Even Has Obama’s Name...  ...  December 29, 2017\n",
              "4   Pope Francis Just Called Out Donald Trump Dur...  ...  December 25, 2017\n",
              "\n",
              "[5 rows x 4 columns]"
            ]
          },
          "metadata": {},
          "execution_count": 7
        }
      ]
    },
    {
      "cell_type": "code",
      "metadata": {
        "colab": {
          "base_uri": "https://localhost:8080/",
          "height": 204
        },
        "id": "UGaJxEOKfvJm",
        "outputId": "de9cc012-e40e-45fe-b548-1b8265698b63"
      },
      "source": [
        "#True data\n",
        "true_news = pd.read_csv(\"/content/drive/MyDrive/Fake news Dataset/True.csv\")\n",
        "true_news.head()"
      ],
      "execution_count": null,
      "outputs": [
        {
          "output_type": "execute_result",
          "data": {
            "text/html": [
              "<div>\n",
              "<style scoped>\n",
              "    .dataframe tbody tr th:only-of-type {\n",
              "        vertical-align: middle;\n",
              "    }\n",
              "\n",
              "    .dataframe tbody tr th {\n",
              "        vertical-align: top;\n",
              "    }\n",
              "\n",
              "    .dataframe thead th {\n",
              "        text-align: right;\n",
              "    }\n",
              "</style>\n",
              "<table border=\"1\" class=\"dataframe\">\n",
              "  <thead>\n",
              "    <tr style=\"text-align: right;\">\n",
              "      <th></th>\n",
              "      <th>title</th>\n",
              "      <th>text</th>\n",
              "      <th>subject</th>\n",
              "      <th>date</th>\n",
              "    </tr>\n",
              "  </thead>\n",
              "  <tbody>\n",
              "    <tr>\n",
              "      <th>0</th>\n",
              "      <td>As U.S. budget fight looms, Republicans flip t...</td>\n",
              "      <td>WASHINGTON (Reuters) - The head of a conservat...</td>\n",
              "      <td>politicsNews</td>\n",
              "      <td>December 31, 2017</td>\n",
              "    </tr>\n",
              "    <tr>\n",
              "      <th>1</th>\n",
              "      <td>U.S. military to accept transgender recruits o...</td>\n",
              "      <td>WASHINGTON (Reuters) - Transgender people will...</td>\n",
              "      <td>politicsNews</td>\n",
              "      <td>December 29, 2017</td>\n",
              "    </tr>\n",
              "    <tr>\n",
              "      <th>2</th>\n",
              "      <td>Senior U.S. Republican senator: 'Let Mr. Muell...</td>\n",
              "      <td>WASHINGTON (Reuters) - The special counsel inv...</td>\n",
              "      <td>politicsNews</td>\n",
              "      <td>December 31, 2017</td>\n",
              "    </tr>\n",
              "    <tr>\n",
              "      <th>3</th>\n",
              "      <td>FBI Russia probe helped by Australian diplomat...</td>\n",
              "      <td>WASHINGTON (Reuters) - Trump campaign adviser ...</td>\n",
              "      <td>politicsNews</td>\n",
              "      <td>December 30, 2017</td>\n",
              "    </tr>\n",
              "    <tr>\n",
              "      <th>4</th>\n",
              "      <td>Trump wants Postal Service to charge 'much mor...</td>\n",
              "      <td>SEATTLE/WASHINGTON (Reuters) - President Donal...</td>\n",
              "      <td>politicsNews</td>\n",
              "      <td>December 29, 2017</td>\n",
              "    </tr>\n",
              "  </tbody>\n",
              "</table>\n",
              "</div>"
            ],
            "text/plain": [
              "                                               title  ...                date\n",
              "0  As U.S. budget fight looms, Republicans flip t...  ...  December 31, 2017 \n",
              "1  U.S. military to accept transgender recruits o...  ...  December 29, 2017 \n",
              "2  Senior U.S. Republican senator: 'Let Mr. Muell...  ...  December 31, 2017 \n",
              "3  FBI Russia probe helped by Australian diplomat...  ...  December 30, 2017 \n",
              "4  Trump wants Postal Service to charge 'much mor...  ...  December 29, 2017 \n",
              "\n",
              "[5 rows x 4 columns]"
            ]
          },
          "metadata": {},
          "execution_count": 8
        }
      ]
    },
    {
      "cell_type": "code",
      "metadata": {
        "colab": {
          "base_uri": "https://localhost:8080/",
          "height": 204
        },
        "id": "axbaQAZFf6kS",
        "outputId": "5bc8493b-82b9-49e3-d94f-8097ee299335"
      },
      "source": [
        "fake_news['fake']=1\n",
        "fake_news.head()"
      ],
      "execution_count": null,
      "outputs": [
        {
          "output_type": "execute_result",
          "data": {
            "text/html": [
              "<div>\n",
              "<style scoped>\n",
              "    .dataframe tbody tr th:only-of-type {\n",
              "        vertical-align: middle;\n",
              "    }\n",
              "\n",
              "    .dataframe tbody tr th {\n",
              "        vertical-align: top;\n",
              "    }\n",
              "\n",
              "    .dataframe thead th {\n",
              "        text-align: right;\n",
              "    }\n",
              "</style>\n",
              "<table border=\"1\" class=\"dataframe\">\n",
              "  <thead>\n",
              "    <tr style=\"text-align: right;\">\n",
              "      <th></th>\n",
              "      <th>title</th>\n",
              "      <th>text</th>\n",
              "      <th>subject</th>\n",
              "      <th>date</th>\n",
              "      <th>fake</th>\n",
              "    </tr>\n",
              "  </thead>\n",
              "  <tbody>\n",
              "    <tr>\n",
              "      <th>0</th>\n",
              "      <td>Donald Trump Sends Out Embarrassing New Year’...</td>\n",
              "      <td>Donald Trump just couldn t wish all Americans ...</td>\n",
              "      <td>News</td>\n",
              "      <td>December 31, 2017</td>\n",
              "      <td>1</td>\n",
              "    </tr>\n",
              "    <tr>\n",
              "      <th>1</th>\n",
              "      <td>Drunk Bragging Trump Staffer Started Russian ...</td>\n",
              "      <td>House Intelligence Committee Chairman Devin Nu...</td>\n",
              "      <td>News</td>\n",
              "      <td>December 31, 2017</td>\n",
              "      <td>1</td>\n",
              "    </tr>\n",
              "    <tr>\n",
              "      <th>2</th>\n",
              "      <td>Sheriff David Clarke Becomes An Internet Joke...</td>\n",
              "      <td>On Friday, it was revealed that former Milwauk...</td>\n",
              "      <td>News</td>\n",
              "      <td>December 30, 2017</td>\n",
              "      <td>1</td>\n",
              "    </tr>\n",
              "    <tr>\n",
              "      <th>3</th>\n",
              "      <td>Trump Is So Obsessed He Even Has Obama’s Name...</td>\n",
              "      <td>On Christmas day, Donald Trump announced that ...</td>\n",
              "      <td>News</td>\n",
              "      <td>December 29, 2017</td>\n",
              "      <td>1</td>\n",
              "    </tr>\n",
              "    <tr>\n",
              "      <th>4</th>\n",
              "      <td>Pope Francis Just Called Out Donald Trump Dur...</td>\n",
              "      <td>Pope Francis used his annual Christmas Day mes...</td>\n",
              "      <td>News</td>\n",
              "      <td>December 25, 2017</td>\n",
              "      <td>1</td>\n",
              "    </tr>\n",
              "  </tbody>\n",
              "</table>\n",
              "</div>"
            ],
            "text/plain": [
              "                                               title  ... fake\n",
              "0   Donald Trump Sends Out Embarrassing New Year’...  ...    1\n",
              "1   Drunk Bragging Trump Staffer Started Russian ...  ...    1\n",
              "2   Sheriff David Clarke Becomes An Internet Joke...  ...    1\n",
              "3   Trump Is So Obsessed He Even Has Obama’s Name...  ...    1\n",
              "4   Pope Francis Just Called Out Donald Trump Dur...  ...    1\n",
              "\n",
              "[5 rows x 5 columns]"
            ]
          },
          "metadata": {},
          "execution_count": 9
        }
      ]
    },
    {
      "cell_type": "code",
      "metadata": {
        "colab": {
          "base_uri": "https://localhost:8080/",
          "height": 204
        },
        "id": "OtGuL4wFf_8e",
        "outputId": "cc07bc5b-e59a-431b-9f7e-20be0fc239ae"
      },
      "source": [
        "true_news['fake'] = 0\n",
        "true_news.head()"
      ],
      "execution_count": null,
      "outputs": [
        {
          "output_type": "execute_result",
          "data": {
            "text/html": [
              "<div>\n",
              "<style scoped>\n",
              "    .dataframe tbody tr th:only-of-type {\n",
              "        vertical-align: middle;\n",
              "    }\n",
              "\n",
              "    .dataframe tbody tr th {\n",
              "        vertical-align: top;\n",
              "    }\n",
              "\n",
              "    .dataframe thead th {\n",
              "        text-align: right;\n",
              "    }\n",
              "</style>\n",
              "<table border=\"1\" class=\"dataframe\">\n",
              "  <thead>\n",
              "    <tr style=\"text-align: right;\">\n",
              "      <th></th>\n",
              "      <th>title</th>\n",
              "      <th>text</th>\n",
              "      <th>subject</th>\n",
              "      <th>date</th>\n",
              "      <th>fake</th>\n",
              "    </tr>\n",
              "  </thead>\n",
              "  <tbody>\n",
              "    <tr>\n",
              "      <th>0</th>\n",
              "      <td>As U.S. budget fight looms, Republicans flip t...</td>\n",
              "      <td>WASHINGTON (Reuters) - The head of a conservat...</td>\n",
              "      <td>politicsNews</td>\n",
              "      <td>December 31, 2017</td>\n",
              "      <td>0</td>\n",
              "    </tr>\n",
              "    <tr>\n",
              "      <th>1</th>\n",
              "      <td>U.S. military to accept transgender recruits o...</td>\n",
              "      <td>WASHINGTON (Reuters) - Transgender people will...</td>\n",
              "      <td>politicsNews</td>\n",
              "      <td>December 29, 2017</td>\n",
              "      <td>0</td>\n",
              "    </tr>\n",
              "    <tr>\n",
              "      <th>2</th>\n",
              "      <td>Senior U.S. Republican senator: 'Let Mr. Muell...</td>\n",
              "      <td>WASHINGTON (Reuters) - The special counsel inv...</td>\n",
              "      <td>politicsNews</td>\n",
              "      <td>December 31, 2017</td>\n",
              "      <td>0</td>\n",
              "    </tr>\n",
              "    <tr>\n",
              "      <th>3</th>\n",
              "      <td>FBI Russia probe helped by Australian diplomat...</td>\n",
              "      <td>WASHINGTON (Reuters) - Trump campaign adviser ...</td>\n",
              "      <td>politicsNews</td>\n",
              "      <td>December 30, 2017</td>\n",
              "      <td>0</td>\n",
              "    </tr>\n",
              "    <tr>\n",
              "      <th>4</th>\n",
              "      <td>Trump wants Postal Service to charge 'much mor...</td>\n",
              "      <td>SEATTLE/WASHINGTON (Reuters) - President Donal...</td>\n",
              "      <td>politicsNews</td>\n",
              "      <td>December 29, 2017</td>\n",
              "      <td>0</td>\n",
              "    </tr>\n",
              "  </tbody>\n",
              "</table>\n",
              "</div>"
            ],
            "text/plain": [
              "                                               title  ... fake\n",
              "0  As U.S. budget fight looms, Republicans flip t...  ...    0\n",
              "1  U.S. military to accept transgender recruits o...  ...    0\n",
              "2  Senior U.S. Republican senator: 'Let Mr. Muell...  ...    0\n",
              "3  FBI Russia probe helped by Australian diplomat...  ...    0\n",
              "4  Trump wants Postal Service to charge 'much mor...  ...    0\n",
              "\n",
              "[5 rows x 5 columns]"
            ]
          },
          "metadata": {},
          "execution_count": 10
        }
      ]
    },
    {
      "cell_type": "code",
      "metadata": {
        "colab": {
          "base_uri": "https://localhost:8080/",
          "height": 204
        },
        "id": "is_xb8_ugygE",
        "outputId": "3a6c6983-462e-47b8-c8da-5972467fa015"
      },
      "source": [
        "news = pd.concat([fake_news, true_news])\n",
        "news.sample(5)"
      ],
      "execution_count": null,
      "outputs": [
        {
          "output_type": "execute_result",
          "data": {
            "text/html": [
              "<div>\n",
              "<style scoped>\n",
              "    .dataframe tbody tr th:only-of-type {\n",
              "        vertical-align: middle;\n",
              "    }\n",
              "\n",
              "    .dataframe tbody tr th {\n",
              "        vertical-align: top;\n",
              "    }\n",
              "\n",
              "    .dataframe thead th {\n",
              "        text-align: right;\n",
              "    }\n",
              "</style>\n",
              "<table border=\"1\" class=\"dataframe\">\n",
              "  <thead>\n",
              "    <tr style=\"text-align: right;\">\n",
              "      <th></th>\n",
              "      <th>title</th>\n",
              "      <th>text</th>\n",
              "      <th>subject</th>\n",
              "      <th>date</th>\n",
              "      <th>fake</th>\n",
              "    </tr>\n",
              "  </thead>\n",
              "  <tbody>\n",
              "    <tr>\n",
              "      <th>12712</th>\n",
              "      <td>Factbox: What's in the Brexit divorce deal?</td>\n",
              "      <td>BRUSSELS (Reuters) - The European Commission s...</td>\n",
              "      <td>worldnews</td>\n",
              "      <td>December 8, 2017</td>\n",
              "      <td>0</td>\n",
              "    </tr>\n",
              "    <tr>\n",
              "      <th>11652</th>\n",
              "      <td>WOW! WHY TRUMP’S PICK FOR LABOR SECRETARY With...</td>\n",
              "      <td>President Donald Trump s pick for secretary of...</td>\n",
              "      <td>politics</td>\n",
              "      <td>Feb 15, 2017</td>\n",
              "      <td>1</td>\n",
              "    </tr>\n",
              "    <tr>\n",
              "      <th>6507</th>\n",
              "      <td>Senator McCain says Russia hacking probe not i...</td>\n",
              "      <td>WASHINGTON (Reuters) - Republican U.S. Senator...</td>\n",
              "      <td>politicsNews</td>\n",
              "      <td>January 5, 2017</td>\n",
              "      <td>0</td>\n",
              "    </tr>\n",
              "    <tr>\n",
              "      <th>12009</th>\n",
              "      <td>TRUMP TWEET STORM On Obamacare Sets Up Battle ...</td>\n",
              "      <td>Remember when Pelosi said it s  AFFORDABLE :</td>\n",
              "      <td>politics</td>\n",
              "      <td>Jan 3, 2017</td>\n",
              "      <td>1</td>\n",
              "    </tr>\n",
              "    <tr>\n",
              "      <th>3318</th>\n",
              "      <td>Court Just Gave Cops Permission To Murder Dogs</td>\n",
              "      <td>The 6th District Court in Ohio ruled on Monday...</td>\n",
              "      <td>News</td>\n",
              "      <td>December 21, 2016</td>\n",
              "      <td>1</td>\n",
              "    </tr>\n",
              "  </tbody>\n",
              "</table>\n",
              "</div>"
            ],
            "text/plain": [
              "                                                   title  ... fake\n",
              "12712        Factbox: What's in the Brexit divorce deal?  ...    0\n",
              "11652  WOW! WHY TRUMP’S PICK FOR LABOR SECRETARY With...  ...    1\n",
              "6507   Senator McCain says Russia hacking probe not i...  ...    0\n",
              "12009  TRUMP TWEET STORM On Obamacare Sets Up Battle ...  ...    1\n",
              "3318      Court Just Gave Cops Permission To Murder Dogs  ...    1\n",
              "\n",
              "[5 rows x 5 columns]"
            ]
          },
          "metadata": {},
          "execution_count": 11
        }
      ]
    },
    {
      "cell_type": "code",
      "metadata": {
        "colab": {
          "base_uri": "https://localhost:8080/"
        },
        "id": "aHmscUwlhTQK",
        "outputId": "3f6ae93f-3c74-4de6-b2db-b0f07838bbcd"
      },
      "source": [
        "news.isna().sum()"
      ],
      "execution_count": null,
      "outputs": [
        {
          "output_type": "execute_result",
          "data": {
            "text/plain": [
              "title      0\n",
              "text       0\n",
              "subject    0\n",
              "date       0\n",
              "fake       0\n",
              "dtype: int64"
            ]
          },
          "metadata": {},
          "execution_count": 12
        }
      ]
    },
    {
      "cell_type": "code",
      "metadata": {
        "colab": {
          "base_uri": "https://localhost:8080/"
        },
        "id": "0-gCMpy4hc7u",
        "outputId": "34e41c1e-4e76-486e-8374-8cfac8b2c4f4"
      },
      "source": [
        "news.info()"
      ],
      "execution_count": null,
      "outputs": [
        {
          "output_type": "stream",
          "name": "stdout",
          "text": [
            "<class 'pandas.core.frame.DataFrame'>\n",
            "Int64Index: 44898 entries, 0 to 21416\n",
            "Data columns (total 5 columns):\n",
            " #   Column   Non-Null Count  Dtype \n",
            "---  ------   --------------  ----- \n",
            " 0   title    44898 non-null  object\n",
            " 1   text     44898 non-null  object\n",
            " 2   subject  44898 non-null  object\n",
            " 3   date     44898 non-null  object\n",
            " 4   fake     44898 non-null  int64 \n",
            "dtypes: int64(1), object(4)\n",
            "memory usage: 2.1+ MB\n"
          ]
        }
      ]
    },
    {
      "cell_type": "code",
      "metadata": {
        "colab": {
          "base_uri": "https://localhost:8080/",
          "height": 296
        },
        "id": "5q8xnGxGhz97",
        "outputId": "a3b1fb0c-6f38-4f65-c219-ddff86218a22"
      },
      "source": [
        "sns.countplot(x='fake', data=news)"
      ],
      "execution_count": null,
      "outputs": [
        {
          "output_type": "execute_result",
          "data": {
            "text/plain": [
              "<matplotlib.axes._subplots.AxesSubplot at 0x7f972b4ecc10>"
            ]
          },
          "metadata": {},
          "execution_count": 14
        },
        {
          "output_type": "display_data",
          "data": {
            "image/png": "[encoded data removed]",
            "text/plain": [
              "<Figure size 432x288 with 1 Axes>"
            ]
          },
          "metadata": {
            "needs_background": "light"
          }
        }
      ]
    },
    {
      "cell_type": "code",
      "metadata": {
        "colab": {
          "base_uri": "https://localhost:8080/"
        },
        "id": "cCQe1gP1h2NN",
        "outputId": "be2133eb-3b63-40a8-c723-85d7146bb603"
      },
      "source": [
        "news[news['fake']==1]['text'].head(2)"
      ],
      "execution_count": null,
      "outputs": [
        {
          "output_type": "execute_result",
          "data": {
            "text/plain": [
              "0    Donald Trump just couldn t wish all Americans ...\n",
              "1    House Intelligence Committee Chairman Devin Nu...\n",
              "Name: text, dtype: object"
            ]
          },
          "metadata": {},
          "execution_count": 15
        }
      ]
    },
    {
      "cell_type": "code",
      "metadata": {
        "colab": {
          "base_uri": "https://localhost:8080/"
        },
        "id": "pRSP0Eyih97z",
        "outputId": "c4f5ac38-bb46-4537-8f68-f888c580dc9e"
      },
      "source": [
        "news[news['fake']==0]['text'].head(2)"
      ],
      "execution_count": null,
      "outputs": [
        {
          "output_type": "execute_result",
          "data": {
            "text/plain": [
              "0    WASHINGTON (Reuters) - The head of a conservat...\n",
              "1    WASHINGTON (Reuters) - Transgender people will...\n",
              "Name: text, dtype: object"
            ]
          },
          "metadata": {},
          "execution_count": 16
        }
      ]
    },
    {
      "cell_type": "code",
      "metadata": {
        "colab": {
          "base_uri": "https://localhost:8080/",
          "height": 352
        },
        "id": "S5OW_-6wiHCF",
        "outputId": "335bf88f-5cdf-4188-eb0a-54e3dc87499e"
      },
      "source": [
        "plt.figure(figsize=(10,5))\n",
        "sns.countplot(x='subject', data=news, hue='fake')"
      ],
      "execution_count": null,
      "outputs": [
        {
          "output_type": "execute_result",
          "data": {
            "text/plain": [
              "<matplotlib.axes._subplots.AxesSubplot at 0x7f972af904d0>"
            ]
          },
          "metadata": {},
          "execution_count": 17
        },
        {
          "output_type": "display_data",
          "data": {
            "image/png": "[encoded data removed]",
            "text/plain": [
              "<Figure size 720x360 with 1 Axes>"
            ]
          },
          "metadata": {
            "needs_background": "light"
          }
        }
      ]
    },
    {
      "cell_type": "code",
      "metadata": {
        "colab": {
          "base_uri": "https://localhost:8080/",
          "height": 204
        },
        "id": "RZRxXxdZiONA",
        "outputId": "b4f35b89-37d0-4a59-860e-4908c9c247b5"
      },
      "source": [
        "news['date'] = pd.to_datetime(news['date'], errors='coerce')\n",
        "news['Year'] = news['date'].dt.year\n",
        "news['Month'] = news['date'].dt.month\n",
        "\n",
        "news.head()"
      ],
      "execution_count": null,
      "outputs": [
        {
          "output_type": "execute_result",
          "data": {
            "text/html": [
              "<div>\n",
              "<style scoped>\n",
              "    .dataframe tbody tr th:only-of-type {\n",
              "        vertical-align: middle;\n",
              "    }\n",
              "\n",
              "    .dataframe tbody tr th {\n",
              "        vertical-align: top;\n",
              "    }\n",
              "\n",
              "    .dataframe thead th {\n",
              "        text-align: right;\n",
              "    }\n",
              "</style>\n",
              "<table border=\"1\" class=\"dataframe\">\n",
              "  <thead>\n",
              "    <tr style=\"text-align: right;\">\n",
              "      <th></th>\n",
              "      <th>title</th>\n",
              "      <th>text</th>\n",
              "      <th>subject</th>\n",
              "      <th>date</th>\n",
              "      <th>fake</th>\n",
              "      <th>Year</th>\n",
              "      <th>Month</th>\n",
              "    </tr>\n",
              "  </thead>\n",
              "  <tbody>\n",
              "    <tr>\n",
              "      <th>0</th>\n",
              "      <td>Donald Trump Sends Out Embarrassing New Year’...</td>\n",
              "      <td>Donald Trump just couldn t wish all Americans ...</td>\n",
              "      <td>News</td>\n",
              "      <td>2017-12-31</td>\n",
              "      <td>1</td>\n",
              "      <td>2017.0</td>\n",
              "      <td>12.0</td>\n",
              "    </tr>\n",
              "    <tr>\n",
              "      <th>1</th>\n",
              "      <td>Drunk Bragging Trump Staffer Started Russian ...</td>\n",
              "      <td>House Intelligence Committee Chairman Devin Nu...</td>\n",
              "      <td>News</td>\n",
              "      <td>2017-12-31</td>\n",
              "      <td>1</td>\n",
              "      <td>2017.0</td>\n",
              "      <td>12.0</td>\n",
              "    </tr>\n",
              "    <tr>\n",
              "      <th>2</th>\n",
              "      <td>Sheriff David Clarke Becomes An Internet Joke...</td>\n",
              "      <td>On Friday, it was revealed that former Milwauk...</td>\n",
              "      <td>News</td>\n",
              "      <td>2017-12-30</td>\n",
              "      <td>1</td>\n",
              "      <td>2017.0</td>\n",
              "      <td>12.0</td>\n",
              "    </tr>\n",
              "    <tr>\n",
              "      <th>3</th>\n",
              "      <td>Trump Is So Obsessed He Even Has Obama’s Name...</td>\n",
              "      <td>On Christmas day, Donald Trump announced that ...</td>\n",
              "      <td>News</td>\n",
              "      <td>2017-12-29</td>\n",
              "      <td>1</td>\n",
              "      <td>2017.0</td>\n",
              "      <td>12.0</td>\n",
              "    </tr>\n",
              "    <tr>\n",
              "      <th>4</th>\n",
              "      <td>Pope Francis Just Called Out Donald Trump Dur...</td>\n",
              "      <td>Pope Francis used his annual Christmas Day mes...</td>\n",
              "      <td>News</td>\n",
              "      <td>2017-12-25</td>\n",
              "      <td>1</td>\n",
              "      <td>2017.0</td>\n",
              "      <td>12.0</td>\n",
              "    </tr>\n",
              "  </tbody>\n",
              "</table>\n",
              "</div>"
            ],
            "text/plain": [
              "                                               title  ... Month\n",
              "0   Donald Trump Sends Out Embarrassing New Year’...  ...  12.0\n",
              "1   Drunk Bragging Trump Staffer Started Russian ...  ...  12.0\n",
              "2   Sheriff David Clarke Becomes An Internet Joke...  ...  12.0\n",
              "3   Trump Is So Obsessed He Even Has Obama’s Name...  ...  12.0\n",
              "4   Pope Francis Just Called Out Donald Trump Dur...  ...  12.0\n",
              "\n",
              "[5 rows x 7 columns]"
            ]
          },
          "metadata": {},
          "execution_count": 18
        }
      ]
    },
    {
      "cell_type": "code",
      "metadata": {
        "colab": {
          "base_uri": "https://localhost:8080/",
          "height": 296
        },
        "id": "_J0IrH-5iXk4",
        "outputId": "12fa29a1-16cb-48b0-9a0c-eaf86c0d14e2"
      },
      "source": [
        "# check the impact of yead on tha target\n",
        "sns.countplot(x='Year', data=news, hue='fake')"
      ],
      "execution_count": null,
      "outputs": [
        {
          "output_type": "execute_result",
          "data": {
            "text/plain": [
              "<matplotlib.axes._subplots.AxesSubplot at 0x7f9729cb9d90>"
            ]
          },
          "metadata": {},
          "execution_count": 19
        },
        {
          "output_type": "display_data",
          "data": {
            "image/png": "[encoded data removed]",
            "text/plain": [
              "<Figure size 432x288 with 1 Axes>"
            ]
          },
          "metadata": {
            "needs_background": "light"
          }
        }
      ]
    },
    {
      "cell_type": "code",
      "metadata": {
        "colab": {
          "base_uri": "https://localhost:8080/",
          "height": 296
        },
        "id": "vDtXLr5Ql45d",
        "outputId": "93c16b4d-4bbe-455c-cf21-06e555fc0f27"
      },
      "source": [
        "sns.countplot(x='Month', data=news, hue='fake')"
      ],
      "execution_count": null,
      "outputs": [
        {
          "output_type": "execute_result",
          "data": {
            "text/plain": [
              "<matplotlib.axes._subplots.AxesSubplot at 0x7f9729c3da50>"
            ]
          },
          "metadata": {},
          "execution_count": 20
        },
        {
          "output_type": "display_data",
          "data": {
            "image/png": "[encoded data removed]",
            "text/plain": [
              "<Figure size 432x288 with 1 Axes>"
            ]
          },
          "metadata": {
            "needs_background": "light"
          }
        }
      ]
    },
    {
      "cell_type": "code",
      "metadata": {
        "colab": {
          "base_uri": "https://localhost:8080/",
          "height": 204
        },
        "id": "m-zP5u5Hl_La",
        "outputId": "5f8a18ad-289d-4573-d440-25d452d30292"
      },
      "source": [
        "news['text'] = news['title'] + news['text']\n",
        "news.drop(labels=['title'], axis=1,inplace=True)\n",
        "news.head()"
      ],
      "execution_count": null,
      "outputs": [
        {
          "output_type": "execute_result",
          "data": {
            "text/html": [
              "<div>\n",
              "<style scoped>\n",
              "    .dataframe tbody tr th:only-of-type {\n",
              "        vertical-align: middle;\n",
              "    }\n",
              "\n",
              "    .dataframe tbody tr th {\n",
              "        vertical-align: top;\n",
              "    }\n",
              "\n",
              "    .dataframe thead th {\n",
              "        text-align: right;\n",
              "    }\n",
              "</style>\n",
              "<table border=\"1\" class=\"dataframe\">\n",
              "  <thead>\n",
              "    <tr style=\"text-align: right;\">\n",
              "      <th></th>\n",
              "      <th>text</th>\n",
              "      <th>subject</th>\n",
              "      <th>date</th>\n",
              "      <th>fake</th>\n",
              "      <th>Year</th>\n",
              "      <th>Month</th>\n",
              "    </tr>\n",
              "  </thead>\n",
              "  <tbody>\n",
              "    <tr>\n",
              "      <th>0</th>\n",
              "      <td>Donald Trump Sends Out Embarrassing New Year’...</td>\n",
              "      <td>News</td>\n",
              "      <td>2017-12-31</td>\n",
              "      <td>1</td>\n",
              "      <td>2017.0</td>\n",
              "      <td>12.0</td>\n",
              "    </tr>\n",
              "    <tr>\n",
              "      <th>1</th>\n",
              "      <td>Drunk Bragging Trump Staffer Started Russian ...</td>\n",
              "      <td>News</td>\n",
              "      <td>2017-12-31</td>\n",
              "      <td>1</td>\n",
              "      <td>2017.0</td>\n",
              "      <td>12.0</td>\n",
              "    </tr>\n",
              "    <tr>\n",
              "      <th>2</th>\n",
              "      <td>Sheriff David Clarke Becomes An Internet Joke...</td>\n",
              "      <td>News</td>\n",
              "      <td>2017-12-30</td>\n",
              "      <td>1</td>\n",
              "      <td>2017.0</td>\n",
              "      <td>12.0</td>\n",
              "    </tr>\n",
              "    <tr>\n",
              "      <th>3</th>\n",
              "      <td>Trump Is So Obsessed He Even Has Obama’s Name...</td>\n",
              "      <td>News</td>\n",
              "      <td>2017-12-29</td>\n",
              "      <td>1</td>\n",
              "      <td>2017.0</td>\n",
              "      <td>12.0</td>\n",
              "    </tr>\n",
              "    <tr>\n",
              "      <th>4</th>\n",
              "      <td>Pope Francis Just Called Out Donald Trump Dur...</td>\n",
              "      <td>News</td>\n",
              "      <td>2017-12-25</td>\n",
              "      <td>1</td>\n",
              "      <td>2017.0</td>\n",
              "      <td>12.0</td>\n",
              "    </tr>\n",
              "  </tbody>\n",
              "</table>\n",
              "</div>"
            ],
            "text/plain": [
              "                                                text subject  ...    Year  Month\n",
              "0   Donald Trump Sends Out Embarrassing New Year’...    News  ...  2017.0   12.0\n",
              "1   Drunk Bragging Trump Staffer Started Russian ...    News  ...  2017.0   12.0\n",
              "2   Sheriff David Clarke Becomes An Internet Joke...    News  ...  2017.0   12.0\n",
              "3   Trump Is So Obsessed He Even Has Obama’s Name...    News  ...  2017.0   12.0\n",
              "4   Pope Francis Just Called Out Donald Trump Dur...    News  ...  2017.0   12.0\n",
              "\n",
              "[5 rows x 6 columns]"
            ]
          },
          "metadata": {},
          "execution_count": 21
        }
      ]
    },
    {
      "cell_type": "code",
      "metadata": {
        "colab": {
          "base_uri": "https://localhost:8080/",
          "height": 204
        },
        "id": "_IQrP3uBmC6M",
        "outputId": "227d9efc-4ab3-4d85-d197-d5f3b3b0ea23"
      },
      "source": [
        "news.drop(labels=['subject','date', 'Year','Month'], axis=1, inplace=True)\n",
        "news.head()"
      ],
      "execution_count": null,
      "outputs": [
        {
          "output_type": "execute_result",
          "data": {
            "text/html": [
              "<div>\n",
              "<style scoped>\n",
              "    .dataframe tbody tr th:only-of-type {\n",
              "        vertical-align: middle;\n",
              "    }\n",
              "\n",
              "    .dataframe tbody tr th {\n",
              "        vertical-align: top;\n",
              "    }\n",
              "\n",
              "    .dataframe thead th {\n",
              "        text-align: right;\n",
              "    }\n",
              "</style>\n",
              "<table border=\"1\" class=\"dataframe\">\n",
              "  <thead>\n",
              "    <tr style=\"text-align: right;\">\n",
              "      <th></th>\n",
              "      <th>text</th>\n",
              "      <th>fake</th>\n",
              "    </tr>\n",
              "  </thead>\n",
              "  <tbody>\n",
              "    <tr>\n",
              "      <th>0</th>\n",
              "      <td>Donald Trump Sends Out Embarrassing New Year’...</td>\n",
              "      <td>1</td>\n",
              "    </tr>\n",
              "    <tr>\n",
              "      <th>1</th>\n",
              "      <td>Drunk Bragging Trump Staffer Started Russian ...</td>\n",
              "      <td>1</td>\n",
              "    </tr>\n",
              "    <tr>\n",
              "      <th>2</th>\n",
              "      <td>Sheriff David Clarke Becomes An Internet Joke...</td>\n",
              "      <td>1</td>\n",
              "    </tr>\n",
              "    <tr>\n",
              "      <th>3</th>\n",
              "      <td>Trump Is So Obsessed He Even Has Obama’s Name...</td>\n",
              "      <td>1</td>\n",
              "    </tr>\n",
              "    <tr>\n",
              "      <th>4</th>\n",
              "      <td>Pope Francis Just Called Out Donald Trump Dur...</td>\n",
              "      <td>1</td>\n",
              "    </tr>\n",
              "  </tbody>\n",
              "</table>\n",
              "</div>"
            ],
            "text/plain": [
              "                                                text  fake\n",
              "0   Donald Trump Sends Out Embarrassing New Year’...     1\n",
              "1   Drunk Bragging Trump Staffer Started Russian ...     1\n",
              "2   Sheriff David Clarke Becomes An Internet Joke...     1\n",
              "3   Trump Is So Obsessed He Even Has Obama’s Name...     1\n",
              "4   Pope Francis Just Called Out Donald Trump Dur...     1"
            ]
          },
          "metadata": {},
          "execution_count": 22
        }
      ]
    },
    {
      "cell_type": "code",
      "metadata": {
        "colab": {
          "base_uri": "https://localhost:8080/",
          "height": 204
        },
        "id": "5zEbYKBZnKjj",
        "outputId": "a04b63bc-2add-48a0-a7f0-702b189e0914"
      },
      "source": [
        "news = news.sample(frac=1)\n",
        "news.head()"
      ],
      "execution_count": null,
      "outputs": [
        {
          "output_type": "execute_result",
          "data": {
            "text/html": [
              "<div>\n",
              "<style scoped>\n",
              "    .dataframe tbody tr th:only-of-type {\n",
              "        vertical-align: middle;\n",
              "    }\n",
              "\n",
              "    .dataframe tbody tr th {\n",
              "        vertical-align: top;\n",
              "    }\n",
              "\n",
              "    .dataframe thead th {\n",
              "        text-align: right;\n",
              "    }\n",
              "</style>\n",
              "<table border=\"1\" class=\"dataframe\">\n",
              "  <thead>\n",
              "    <tr style=\"text-align: right;\">\n",
              "      <th></th>\n",
              "      <th>text</th>\n",
              "      <th>fake</th>\n",
              "    </tr>\n",
              "  </thead>\n",
              "  <tbody>\n",
              "    <tr>\n",
              "      <th>16454</th>\n",
              "      <td>WATCH HILLARY CLINTON Go Full On Socialist…You...</td>\n",
              "      <td>1</td>\n",
              "    </tr>\n",
              "    <tr>\n",
              "      <th>8637</th>\n",
              "      <td>You Won’t Believe What GOP Lead Poisoning Tru...</td>\n",
              "      <td>1</td>\n",
              "    </tr>\n",
              "    <tr>\n",
              "      <th>17399</th>\n",
              "      <td>Japan ruling bloc heads for big election win d...</td>\n",
              "      <td>0</td>\n",
              "    </tr>\n",
              "    <tr>\n",
              "      <th>15760</th>\n",
              "      <td>BREAKING VIDEO: “RELAX, RELAX!” AL SHARPTON GE...</td>\n",
              "      <td>1</td>\n",
              "    </tr>\n",
              "    <tr>\n",
              "      <th>5958</th>\n",
              "      <td>Mexico, U.S. agree not to talk publicly about ...</td>\n",
              "      <td>0</td>\n",
              "    </tr>\n",
              "  </tbody>\n",
              "</table>\n",
              "</div>"
            ],
            "text/plain": [
              "                                                    text  fake\n",
              "16454  WATCH HILLARY CLINTON Go Full On Socialist…You...     1\n",
              "8637    You Won’t Believe What GOP Lead Poisoning Tru...     1\n",
              "17399  Japan ruling bloc heads for big election win d...     0\n",
              "15760  BREAKING VIDEO: “RELAX, RELAX!” AL SHARPTON GE...     1\n",
              "5958   Mexico, U.S. agree not to talk publicly about ...     0"
            ]
          },
          "metadata": {},
          "execution_count": 23
        }
      ]
    },
    {
      "cell_type": "code",
      "metadata": {
        "id": "Zx3uwlWlpQqU"
      },
      "source": [
        "from sklearn.model_selection import train_test_split\n",
        "\n",
        "train_sentences, val_sentences, train_labels, val_labels=train_test_split(news['text'].to_numpy(),\n",
        "                                                                            news['fake'].to_numpy(),\n",
        "                                                                            test_size=0.2,\n",
        "                                                                            random_state=42)"
      ],
      "execution_count": null,
      "outputs": []
    },
    {
      "cell_type": "code",
      "metadata": {
        "colab": {
          "base_uri": "https://localhost:8080/"
        },
        "id": "PPstsYFopmB9",
        "outputId": "33a5b75a-6b13-463f-bf7f-9ae27ba2d4c6"
      },
      "source": [
        "len(train_sentences),len(val_sentences),len(train_labels),len(val_labels)"
      ],
      "execution_count": null,
      "outputs": [
        {
          "output_type": "execute_result",
          "data": {
            "text/plain": [
              "(35918, 8980, 35918, 8980)"
            ]
          },
          "metadata": {},
          "execution_count": 25
        }
      ]
    },
    {
      "cell_type": "code",
      "metadata": {
        "colab": {
          "base_uri": "https://localhost:8080/"
        },
        "id": "nUadxjfqp8Cr",
        "outputId": "420aaa33-a6e1-463f-cbaf-7ce783e3f7f8"
      },
      "source": [
        "train_sentences[:2], train_labels[:10]"
      ],
      "execution_count": null,
      "outputs": [
        {
          "output_type": "execute_result",
          "data": {
            "text/plain": [
              "(array(['REMEMBERING FDR’S Famous Pearl Harbor Speech: How “A Date That Will Live In Infamy” Almost Wasn’t [AUDIO]Did FDR actually deliver his fireside chats while sitting near a fire? Seventy-four years ago, President Franklin D. Roosevelt proclaimed December 7, 1941, as a  date which will live in infamy  after the Japanese attacked Pearl Harbor.But that most powerful line in his speech asking Congress to declare war and bring the U.S. into World War II almost wasn t. Roosevelt s original draft called it  a date which will live in world history,  rhetoric that had far less  oomph. That memorable revision along with others   a fact you can see for yourself thanks to thousands of pages of the longest-serving president s speeches made available Monday digitally for the first time.President Franklin D. Roosevelt made an important revision to his first draft of the address he would make to Congress on Dec. 8, 1941, after the Pearl Harbor attacks. FDR Presidential LibraryThe massive archive at the Franklin D. Roosevelt Presidential Library, thanks in part to support from AT&T, includes over 46,000 pages of drafts, reading copies, transcripts and their audio files from Roosevelt s 12 years in office   all online and free to the public.It s the largest archive of any president, according to FDR Library Director Paul Sparrow, and provides new insight into Roosevelt s presidency.Roosevelt was a historian and a collector,  Sparrow said.  He kept every draft, every script. The Pearl Harbor speech   made December 8   stands out as one of the most pivotal moments of Roosevelt s presidency. On his blog, Sparrow wrote that it  represents the tipping point, the actual moment when the United States was transformed from an isolationist nation to a global superpower and leader of the free world. Its message of resolve and determination in the face of a devastating attack is as relevant today as it was then. And it was written almost entirely by Roosevelt himself, not by speechwriters or his advisers. Roosevelt dictated the speech to his secretary just three hours after learning of the attacks.Roosevelt made edits to that draft   most importantly changing  world history  to  infamy  in the first line. His close adviser, Harry Hopkins, would make the only other addition:  With confidence in our armed forces   with the unbounding determination of our people   we will gain the inevitable triumph  so help us God. The State Department was also pressuring Roosevelt to deliver a much longer, historical speech that detailed the U.S.-Japan tensions. They even presented the president with a 17-page suggested draft. Roosevelt politely listened to their suggestions, but had already decided he would stick with his three-page, seven-minute speech.The forceful brevity of that speech at such a crucial moment in U.S. history is one reason it is among the best-remembered in history. Roosevelt knew that lengthy speech wasn t what the American people wanted to hear right now,  Sparrow said.Roosevelt, who was of course the longest-serving president in history, gave the most speeches and press conferences of any chief executive too. And as radio in the 1930s and 1940s became a way to reach the masses, he embraced it like any other with his regular  Fireside Chats. Roosevelt s First Fireside Chat After Pearl Harbor 26:16 Though he didn t actually deliver them beside a fire, his rhetorical gift was on full display in the regular addresses, using common words and a conversational tone to reach the American public. In his own mind, he imagined sitting at a kitchen table and talking to his neighbors,  Sparrow said.  They have much more of an explanatory tone. Many are very instructional.  Via: NPR',\n",
              "        '“LIE” WITNESS NEWS: JIMMY KIMMEL SHOW Asks People What They Thought Of Debate…DAY BEFORE Debates Happened [VIDEOS]It s hard to imagine so many people would lie to the this reporter about a debate they never saw. But we are living in the  Age of Hillary  where lying is perfectly acceptable if you re attempting to reach a lifelong goal of breaking a glass ceiling (or 13 cellphones) with a hammer!Not that we re keeping score, but only one of these liars was a Trump supporter.Enjoy!'],\n",
              "       dtype=object), array([1, 1, 1, 0, 0, 0, 0, 1, 0, 0]))"
            ]
          },
          "metadata": {},
          "execution_count": 26
        }
      ]
    },
    {
      "cell_type": "code",
      "metadata": {
        "colab": {
          "base_uri": "https://localhost:8080/"
        },
        "id": "vW_Bx2K7qJx_",
        "outputId": "1708066a-d7fc-445a-bc0f-a49b2c945181"
      },
      "source": [
        "round(sum([len(i.split()) for i in train_sentences])/len(train_sentences))"
      ],
      "execution_count": null,
      "outputs": [
        {
          "output_type": "execute_result",
          "data": {
            "text/plain": [
              "417"
            ]
          },
          "metadata": {},
          "execution_count": 27
        }
      ]
    },
    {
      "cell_type": "code",
      "metadata": {
        "id": "AVydA8wlqjh4"
      },
      "source": [
        "max_vocab_length = 10000\n",
        "max_length = 418\n",
        "\n",
        "\n",
        "from tensorflow.keras.layers.experimental.preprocessing import TextVectorization\n",
        "text_vectorizer = TextVectorization(max_tokens=max_vocab_length,\n",
        "                                   output_mode='int',\n",
        "                                   output_sequence_length=max_length)"
      ],
      "execution_count": null,
      "outputs": []
    },
    {
      "cell_type": "code",
      "metadata": {
        "id": "i_yPV05JqtMk"
      },
      "source": [
        "text_vectorizer.adapt(train_sentences)"
      ],
      "execution_count": null,
      "outputs": []
    },
    {
      "cell_type": "code",
      "metadata": {
        "colab": {
          "base_uri": "https://localhost:8080/"
        },
        "id": "fNEXmr_yqwu2",
        "outputId": "4f4e6822-1eff-42b4-d48b-788b1e5aa91f"
      },
      "source": [
        "sample_sentence = \"Please Do Not Forget To Upvoted\"\n",
        "text_vectorizer([sample_sentence])"
      ],
      "execution_count": null,
      "outputs": [
        {
          "output_type": "execute_result",
          "data": {
            "text/plain": [
              "<tf.Tensor: shape=(1, 418), dtype=int64, numpy=\n",
              "array([[1774,   92,   25, 2893,    3,    1,    0,    0,    0,    0,    0,\n",
              "           0,    0,    0,    0,    0,    0,    0,    0,    0,    0,    0,\n",
              "           0,    0,    0,    0,    0,    0,    0,    0,    0,    0,    0,\n",
              "           0,    0,    0,    0,    0,    0,    0,    0,    0,    0,    0,\n",
              "           0,    0,    0,    0,    0,    0,    0,    0,    0,    0,    0,\n",
              "           0,    0,    0,    0,    0,    0,    0,    0,    0,    0,    0,\n",
              "           0,    0,    0,    0,    0,    0,    0,    0,    0,    0,    0,\n",
              "           0,    0,    0,    0,    0,    0,    0,    0,    0,    0,    0,\n",
              "           0,    0,    0,    0,    0,    0,    0,    0,    0,    0,    0,\n",
              "           0,    0,    0,    0,    0,    0,    0,    0,    0,    0,    0,\n",
              "           0,    0,    0,    0,    0,    0,    0,    0,    0,    0,    0,\n",
              "           0,    0,    0,    0,    0,    0,    0,    0,    0,    0,    0,\n",
              "           0,    0,    0,    0,    0,    0,    0,    0,    0,    0,    0,\n",
              "           0,    0,    0,    0,    0,    0,    0,    0,    0,    0,    0,\n",
              "           0,    0,    0,    0,    0,    0,    0,    0,    0,    0,    0,\n",
              "           0,    0,    0,    0,    0,    0,    0,    0,    0,    0,    0,\n",
              "           0,    0,    0,    0,    0,    0,    0,    0,    0,    0,    0,\n",
              "           0,    0,    0,    0,    0,    0,    0,    0,    0,    0,    0,\n",
              "           0,    0,    0,    0,    0,    0,    0,    0,    0,    0,    0,\n",
              "           0,    0,    0,    0,    0,    0,    0,    0,    0,    0,    0,\n",
              "           0,    0,    0,    0,    0,    0,    0,    0,    0,    0,    0,\n",
              "           0,    0,    0,    0,    0,    0,    0,    0,    0,    0,    0,\n",
              "           0,    0,    0,    0,    0,    0,    0,    0,    0,    0,    0,\n",
              "           0,    0,    0,    0,    0,    0,    0,    0,    0,    0,    0,\n",
              "           0,    0,    0,    0,    0,    0,    0,    0,    0,    0,    0,\n",
              "           0,    0,    0,    0,    0,    0,    0,    0,    0,    0,    0,\n",
              "           0,    0,    0,    0,    0,    0,    0,    0,    0,    0,    0,\n",
              "           0,    0,    0,    0,    0,    0,    0,    0,    0,    0,    0,\n",
              "           0,    0,    0,    0,    0,    0,    0,    0,    0,    0,    0,\n",
              "           0,    0,    0,    0,    0,    0,    0,    0,    0,    0,    0,\n",
              "           0,    0,    0,    0,    0,    0,    0,    0,    0,    0,    0,\n",
              "           0,    0,    0,    0,    0,    0,    0,    0,    0,    0,    0,\n",
              "           0,    0,    0,    0,    0,    0,    0,    0,    0,    0,    0,\n",
              "           0,    0,    0,    0,    0,    0,    0,    0,    0,    0,    0,\n",
              "           0,    0,    0,    0,    0,    0,    0,    0,    0,    0,    0,\n",
              "           0,    0,    0,    0,    0,    0,    0,    0,    0,    0,    0,\n",
              "           0,    0,    0,    0,    0,    0,    0,    0,    0,    0,    0,\n",
              "           0,    0,    0,    0,    0,    0,    0,    0,    0,    0,    0]])>"
            ]
          },
          "metadata": {},
          "execution_count": 30
        }
      ]
    },
    {
      "cell_type": "code",
      "metadata": {
        "colab": {
          "base_uri": "https://localhost:8080/"
        },
        "id": "VSsNAJx0q60z",
        "outputId": "511c31ac-00d4-4831-b69e-12b6fece6f47"
      },
      "source": [
        "import random\n",
        "random_sentence = random.choice(train_sentences)\n",
        "print(f\"Original text;\\n{random_sentence}\\\n",
        "\\n\\n Vectorized Version:\")\n",
        "text_vectorizer([random_sentence])"
      ],
      "execution_count": null,
      "outputs": [
        {
          "output_type": "stream",
          "name": "stdout",
          "text": [
            "Original text;\n",
            "BEAUTIFUL! FIRST LADY MELANIA TRUMP Hosts Military Moms: “Mother Is A Title That Changes Your Life Forever”Fist Lady Melania Trump hosted military moms at the White House on Friday. She gave a heartwarming and heartfelt speech about what it means to be a mother. She s beautiful inside and out!Notice how President Trump looks on lovingly and proudly. The First Lady speaks with empathy about how hard it must be for them to send their military son or daughter to fight for America: Thank you for all that you do, for your selflessness and for your own sacrifice on behalf of our country    First Lady Melania TrumpShe does a great job!THE DEPARTMENT OF DEFENSE: In honor of Mother s Day, President Donald J. Trump and First Lady Melania Trump welcomed active-duty troops, their spouses and mothers to the White House, today. As commander in chief of the United States, my supreme duty is to protect our citizens and that means supporting our servicemen and women,  the president said.  That obligation begins the first day they put on the uniform and continues every day after, when they return to civilian life as veterans. Trump said he would make sure the nation always takes care of its soldiers, sailors, airmen, Marines and the members of the Coast Guard. To every military service member, mother and spouse here today, I want you to know you have my complete and total support   [and] the White House, this administration and this government stands fully behind you,  the president said.Moms Are Heroes, Too As we celebrate Mother s Day this weekend, this is one of many opportunities for us to thank the incredible military mothers who love and care for our nation s heroes,  Trump said. The mothers are heroes, too. It is your sacrifice that protects our nation, safeguards our liberties and makes sure our beautiful American flag always waves proudly above our very glorious land,  he said to the military mothers in the audience.The president introduced First Lady Melania Trump, who said she was honored by the military members  presence as the nation celebrates National Military Appreciation Month and Mother s Day.Title That Claims The Heart As everyone in this room knows, mother is a title that claims your heart and changes your life forever,  the first lady said.  In fact, it has been said that having a child means allowing your heart to walk around outside of your body. For the mothers of someone who has, or is, serving our country, this must be especially true. Noting that while she, too, is a mother, Melania Trump said she does not know of the many different challenges that come with being the parent of a service member.Part Of A Community While you stand with many other parents, so strong and so proud, I am sure that you sometimes march on this journey alone,  the first lady said, adding,  While your sons and daughters are away serving so selflessly, having a community share even some of that burden must make all the difference in the world. Melania Trump told the mothers in the audience they are part of a community, and the White House is proud to be a part of it with them. Thank you for all that you do, for your selflessness and for your own sacrifice on behalf of our country,  she said. Let today s celebration with this community of strong and selfless moms be a first step in building relationships,  the first lady said,  and in your knowing, that my husband and I, along with   everyone here at the White House, hold you close in our hearts and thoughts each and every day. \n",
            "\n",
            " Vectorized Version:\n"
          ]
        },
        {
          "output_type": "execute_result",
          "data": {
            "text/plain": [
              "<tf.Tensor: shape=(1, 418), dtype=int64, numpy=\n",
              "array([[3076,  104, 1484, 1984,   15, 2706,  172,    1,    1,   12,    5,\n",
              "        3496,    8,  990,  193,  494,    1, 1484, 1984,   15, 3291,  172,\n",
              "           1,   27,    2,   85,   68,    9,  214,   52,  627,    5,    1,\n",
              "           6,    1,  286,   38,   58,   16,  641,    3,   23,    5, 1125,\n",
              "          52,   11, 3076, 1066,    6,    1,  101,   39,   15, 1317,    9,\n",
              "           1,    6, 6475,    2,  104, 1484, 3065,   17,    1,   38,  101,\n",
              "         558,   16,  303,   23,   10,   94,    3, 1223,   41,  172,  856,\n",
              "          48, 1309,    3,  484,   10,  159, 1898,   43,   10,   56,    8,\n",
              "          43,   92,   10,  193,    1,    6,   10,  193,  212, 5641,    9,\n",
              "        1790,    4,   69,  114,  104, 1484, 1984,    1,  246,    5,  353,\n",
              "           1,  180,    4,  355,    7, 2127,    4, 1125,   11,  200,   39,\n",
              "          71,  826,   15,    6,  104, 1484, 1984,   15, 2826,    1, 1000,\n",
              "          41, 9984,    6, 5040,    3,    2,   85,   68,  370,   19, 2097,\n",
              "           7,  305,    4,    2,   86,   76,  177,  421, 2817,   12,    3,\n",
              "         713,   69,  590,    6,    8,  641, 1286,   69,    1,    6,  198,\n",
              "           2,   39,   14,    8, 4241, 3312,    2,  104,  200,   33,  260,\n",
              "           9,    2, 5896,    6, 1337,  257,  200,   51,   60,   33,  781,\n",
              "           3, 2524,  494,   19, 1679,   15,   14,   13,   35,  132,  552,\n",
              "           2,  383,  729, 1036,  432,    4,   62, 1361, 7783,    1, 5742,\n",
              "           6,    2,  248,    4,    2, 2197, 1892,    3,  257,  172,  565,\n",
              "         405, 1125,    6, 9846,  195,  370,   37,  181,   43,    3,  162,\n",
              "          43,   24,  177, 1357,    6,  976,  148,    6,    2,   85,   68,\n",
              "          28,  150,    6,   28,   74, 2203, 1589,  516,   43,    2,   39,\n",
              "           1,   29, 6358,  301,   19,   36, 3842, 1125,   11,  200,   28,\n",
              "        1339,   28,   12,   54,    4,  116, 3492,   10,   31,    3, 1898,\n",
              "           2, 3871,  172, 5040,   30,  847,    6,  432,   10,   69,  383,\n",
              "          11, 6358,   15,   14,    2, 5040,   29, 6358,  301,   16,   12,\n",
              "         193, 5641,    8, 6350,   69,  383,    1,   69, 3690,    6,  638,\n",
              "         552,   69, 3076,  133,  977,  729, 7405, 6475, 1515,   69,  142,\n",
              "        9208, 1193,   13,   14,    3,    2,  172, 5040,    7,    2,    1,\n",
              "          39, 2223,  104, 1484, 1984,   15,   30,   14,   52,   18, 5720,\n",
              "          21,    2,  172,  248, 2002,   19,    2,  383,    1,  123,  172,\n",
              "           1,  278,    6, 1125,   11,    1,    8,  607,    2, 1548,   19,\n",
              "         648,    7,   28,  739, 1144, 1125,   12,    5, 3496,    8,  607,\n",
              "         193, 1548,    6,  990,  193,  494, 5606,    2,  104, 1484,   14,\n",
              "           7,  287,   16,   22,   45,   14,    8,  474,    5,  934,  641,\n",
              "        1495,  193, 1548,    3, 2704,  243,  631,    4,  193, 1199,   10,\n",
              "           2, 5040,    4,  542,   30,   22,   48,   12, 1894,   69,  114]])>"
            ]
          },
          "metadata": {},
          "execution_count": 31
        }
      ]
    },
    {
      "cell_type": "code",
      "metadata": {
        "colab": {
          "base_uri": "https://localhost:8080/"
        },
        "id": "9A0Jh90trCCb",
        "outputId": "1cf51b1d-2774-4153-8b4e-712112d19f9e"
      },
      "source": [
        "words = text_vectorizer.get_vocabulary()\n",
        "len(words)"
      ],
      "execution_count": null,
      "outputs": [
        {
          "output_type": "execute_result",
          "data": {
            "text/plain": [
              "10000"
            ]
          },
          "metadata": {},
          "execution_count": 32
        }
      ]
    },
    {
      "cell_type": "code",
      "metadata": {
        "colab": {
          "base_uri": "https://localhost:8080/"
        },
        "id": "tCtmwTBZrJyI",
        "outputId": "a207c4d4-aad6-4b20-e47b-8c36eebb5477"
      },
      "source": [
        "from tensorflow.keras import layers\n",
        "\n",
        "embedding = layers.Embedding(input_dim=max_vocab_length,\n",
        "                            output_dim=128,\n",
        "                            embeddings_initializer='uniform',\n",
        "                            input_length=max_length)\n",
        "embedding"
      ],
      "execution_count": null,
      "outputs": [
        {
          "output_type": "execute_result",
          "data": {
            "text/plain": [
              "<keras.layers.embeddings.Embedding at 0x7f9724c40d50>"
            ]
          },
          "metadata": {},
          "execution_count": 33
        }
      ]
    },
    {
      "cell_type": "code",
      "metadata": {
        "colab": {
          "base_uri": "https://localhost:8080/"
        },
        "id": "1GTWTd4Yrdqk",
        "outputId": "1f6f805d-4748-41f2-9e52-3c0127a14517"
      },
      "source": [
        "random_sentenc = random.choice(train_sentences)\n",
        "print(f\"Original text:\\n{random_sentence}\\\n",
        "      \\n\\nEmbedd version: \")\n",
        "embedding(text_vectorizer([random_sentence]))"
      ],
      "execution_count": null,
      "outputs": [
        {
          "output_type": "stream",
          "name": "stdout",
          "text": [
            "Original text:\n",
            "BEAUTIFUL! FIRST LADY MELANIA TRUMP Hosts Military Moms: “Mother Is A Title That Changes Your Life Forever”Fist Lady Melania Trump hosted military moms at the White House on Friday. She gave a heartwarming and heartfelt speech about what it means to be a mother. She s beautiful inside and out!Notice how President Trump looks on lovingly and proudly. The First Lady speaks with empathy about how hard it must be for them to send their military son or daughter to fight for America: Thank you for all that you do, for your selflessness and for your own sacrifice on behalf of our country    First Lady Melania TrumpShe does a great job!THE DEPARTMENT OF DEFENSE: In honor of Mother s Day, President Donald J. Trump and First Lady Melania Trump welcomed active-duty troops, their spouses and mothers to the White House, today. As commander in chief of the United States, my supreme duty is to protect our citizens and that means supporting our servicemen and women,  the president said.  That obligation begins the first day they put on the uniform and continues every day after, when they return to civilian life as veterans. Trump said he would make sure the nation always takes care of its soldiers, sailors, airmen, Marines and the members of the Coast Guard. To every military service member, mother and spouse here today, I want you to know you have my complete and total support   [and] the White House, this administration and this government stands fully behind you,  the president said.Moms Are Heroes, Too As we celebrate Mother s Day this weekend, this is one of many opportunities for us to thank the incredible military mothers who love and care for our nation s heroes,  Trump said. The mothers are heroes, too. It is your sacrifice that protects our nation, safeguards our liberties and makes sure our beautiful American flag always waves proudly above our very glorious land,  he said to the military mothers in the audience.The president introduced First Lady Melania Trump, who said she was honored by the military members  presence as the nation celebrates National Military Appreciation Month and Mother s Day.Title That Claims The Heart As everyone in this room knows, mother is a title that claims your heart and changes your life forever,  the first lady said.  In fact, it has been said that having a child means allowing your heart to walk around outside of your body. For the mothers of someone who has, or is, serving our country, this must be especially true. Noting that while she, too, is a mother, Melania Trump said she does not know of the many different challenges that come with being the parent of a service member.Part Of A Community While you stand with many other parents, so strong and so proud, I am sure that you sometimes march on this journey alone,  the first lady said, adding,  While your sons and daughters are away serving so selflessly, having a community share even some of that burden must make all the difference in the world. Melania Trump told the mothers in the audience they are part of a community, and the White House is proud to be a part of it with them. Thank you for all that you do, for your selflessness and for your own sacrifice on behalf of our country,  she said. Let today s celebration with this community of strong and selfless moms be a first step in building relationships,  the first lady said,  and in your knowing, that my husband and I, along with   everyone here at the White House, hold you close in our hearts and thoughts each and every day.       \n",
            "\n",
            "Embedd version: \n"
          ]
        },
        {
          "output_type": "execute_result",
          "data": {
            "text/plain": [
              "<tf.Tensor: shape=(1, 418, 128), dtype=float32, numpy=\n",
              "array([[[-0.03563859,  0.043705  ,  0.0491943 , ...,  0.02565276,\n",
              "         -0.01897298, -0.02408735],\n",
              "        [-0.04862798,  0.01909142, -0.02908018, ...,  0.03314653,\n",
              "         -0.04259333, -0.01530283],\n",
              "        [ 0.04965272, -0.04491278, -0.03573284, ...,  0.01269851,\n",
              "         -0.04456055,  0.01853123],\n",
              "        ...,\n",
              "        [-0.03538054, -0.00987958, -0.0352563 , ...,  0.03063097,\n",
              "          0.01732497, -0.02196343],\n",
              "        [-0.03517004, -0.04139426,  0.0197967 , ..., -0.00675648,\n",
              "         -0.02671338,  0.04818409],\n",
              "        [-0.02107804, -0.03204028, -0.03803505, ..., -0.0434486 ,\n",
              "         -0.00692647,  0.01013564]]], dtype=float32)>"
            ]
          },
          "metadata": {},
          "execution_count": 34
        }
      ]
    },
    {
      "cell_type": "code",
      "metadata": {
        "id": "UVQKzL6hr6A_"
      },
      "source": [
        "# Create an LSTM model\n",
        "from tensorflow.keras import layers\n",
        "inputs = layers.Input(shape=(1,),dtype='string')\n",
        "\n",
        "# Pass inputs to text_vectorizer(convert text into numbers)\n",
        "x = text_vectorizer(inputs) \n",
        "\n",
        "# Convert text_vectorizer layer into embedding layer\n",
        "x = embedding(x)\n",
        "\n",
        "# Model \n",
        "x = layers.LSTM(64)(x)\n",
        "\n",
        "\n",
        "# output\n",
        "outputs = layers.Dense(1, activation='sigmoid')(x)\n",
        "\n",
        "# Pass inputs and outputs to our model\n",
        "model = tf.keras.Model(inputs, outputs, name='model_LSTM')"
      ],
      "execution_count": null,
      "outputs": []
    },
    {
      "cell_type": "code",
      "metadata": {
        "colab": {
          "base_uri": "https://localhost:8080/"
        },
        "id": "crxfYbBws0e4",
        "outputId": "25485707-aeb5-45d4-b299-7b68384d513d"
      },
      "source": [
        "model.summary()"
      ],
      "execution_count": null,
      "outputs": [
        {
          "output_type": "stream",
          "name": "stdout",
          "text": [
            "Model: \"model_LSTM\"\n",
            "_________________________________________________________________\n",
            "Layer (type)                 Output Shape              Param #   \n",
            "=================================================================\n",
            "input_1 (InputLayer)         [(None, 1)]               0         \n",
            "_________________________________________________________________\n",
            "text_vectorization (TextVect (None, 418)               0         \n",
            "_________________________________________________________________\n",
            "embedding (Embedding)        (None, 418, 128)          1280000   \n",
            "_________________________________________________________________\n",
            "lstm (LSTM)                  (None, 64)                49408     \n",
            "_________________________________________________________________\n",
            "dense (Dense)                (None, 1)                 65        \n",
            "=================================================================\n",
            "Total params: 1,329,473\n",
            "Trainable params: 1,329,473\n",
            "Non-trainable params: 0\n",
            "_________________________________________________________________\n"
          ]
        }
      ]
    },
    {
      "cell_type": "code",
      "metadata": {
        "id": "DYxwx7Xxs8G1"
      },
      "source": [
        "model.compile(loss='binary_crossentropy',\n",
        "             optimizer=tf.keras.optimizers.Adam(),\n",
        "             metrics=['accuracy'])"
      ],
      "execution_count": null,
      "outputs": []
    },
    {
      "cell_type": "code",
      "metadata": {
        "colab": {
          "base_uri": "https://localhost:8080/"
        },
        "id": "W5LRoS53tIsS",
        "outputId": "cf4b5f8b-c9e0-42ad-8f2c-0ce7c410b542"
      },
      "source": [
        "model_history = model.fit(train_sentences,\n",
        "                         train_labels,\n",
        "                          epochs=5,\n",
        "                         validation_data=(val_sentences, val_labels))"
      ],
      "execution_count": null,
      "outputs": [
        {
          "output_type": "stream",
          "name": "stdout",
          "text": [
            "Epoch 1/5\n",
            "1123/1123 [==============================] - 381s 337ms/step - loss: 0.6003 - accuracy: 0.6728 - val_loss: 0.3913 - val_accuracy: 0.8572\n",
            "Epoch 2/5\n",
            "1123/1123 [==============================] - 375s 334ms/step - loss: 0.5817 - accuracy: 0.6650 - val_loss: 0.6465 - val_accuracy: 0.6307\n",
            "Epoch 3/5\n",
            "1123/1123 [==============================] - 376s 335ms/step - loss: 0.1757 - accuracy: 0.9566 - val_loss: 0.0486 - val_accuracy: 0.9894\n",
            "Epoch 4/5\n",
            "1123/1123 [==============================] - 376s 335ms/step - loss: 0.0311 - accuracy: 0.9930 - val_loss: 0.0325 - val_accuracy: 0.9912\n",
            "Epoch 5/5\n",
            "1123/1123 [==============================] - 373s 332ms/step - loss: 0.0172 - accuracy: 0.9964 - val_loss: 0.0389 - val_accuracy: 0.9902\n"
          ]
        }
      ]
    },
    {
      "cell_type": "code",
      "metadata": {
        "colab": {
          "base_uri": "https://localhost:8080/"
        },
        "id": "8m_geTQrtMgD",
        "outputId": "5191b55c-0289-4ac2-8b38-cca079dd3ccc"
      },
      "source": [
        "model_prediction = model.predict(val_sentences)\n",
        "model_prediction[:10]"
      ],
      "execution_count": null,
      "outputs": [
        {
          "output_type": "execute_result",
          "data": {
            "text/plain": [
              "array([[0.99499106],\n",
              "       [0.9949908 ],\n",
              "       [0.99490905],\n",
              "       [0.96379733],\n",
              "       [0.9980866 ],\n",
              "       [0.00733805],\n",
              "       [0.00242811],\n",
              "       [0.01973099],\n",
              "       [0.00237301],\n",
              "       [0.99499017]], dtype=float32)"
            ]
          },
          "metadata": {},
          "execution_count": 39
        }
      ]
    },
    {
      "cell_type": "code",
      "metadata": {
        "colab": {
          "base_uri": "https://localhost:8080/"
        },
        "id": "FusE02oS0lnD",
        "outputId": "830e6042-d978-495d-984d-dda51a088828"
      },
      "source": [
        "model_preds = tf.squeeze(tf.round(model_prediction))\n",
        "model_preds[:10]"
      ],
      "execution_count": null,
      "outputs": [
        {
          "output_type": "execute_result",
          "data": {
            "text/plain": [
              "<tf.Tensor: shape=(10,), dtype=float32, numpy=array([1., 1., 1., 1., 1., 0., 0., 0., 0., 1.], dtype=float32)>"
            ]
          },
          "metadata": {},
          "execution_count": 40
        }
      ]
    },
    {
      "cell_type": "code",
      "metadata": {
        "colab": {
          "base_uri": "https://localhost:8080/"
        },
        "id": "6XKsVt_d4UPp",
        "outputId": "a042c6ac-e992-49d0-b81f-385568c4e7ec"
      },
      "source": [
        "from sklearn.metrics import accuracy_score, recall_score,precision_score, f1_score\n",
        "\n",
        "print(f\"Accuracy Score of LSTM model: {accuracy_score(val_labels,model_preds)}\")\n",
        "print(f\"Recall Score of LSTM model: {recall_score(val_labels, model_preds)}\")\n",
        "print(f\"Precsion Score of LSTM model: {precision_score(val_labels, model_preds)}\")\n",
        "print(f\"f1 Score of LSTM model: {f1_score(val_labels, model_preds)}\")"
      ],
      "execution_count": null,
      "outputs": [
        {
          "output_type": "stream",
          "name": "stdout",
          "text": [
            "Accuracy Score of LSTM model: 0.9902004454342984\n",
            "Recall Score of LSTM model: 0.9856068743286789\n",
            "Precsion Score of LSTM model: 0.9954436971143416\n",
            "f1 Score of LSTM model: 0.9905008635578585\n"
          ]
        }
      ]
    },
    {
      "cell_type": "code",
      "metadata": {
        "colab": {
          "base_uri": "https://localhost:8080/",
          "height": 316
        },
        "id": "pivG25EifSCs",
        "outputId": "615ff54d-0e87-4b55-c55d-9d046d96d18a"
      },
      "source": [
        "from sklearn.metrics import confusion_matrix\n",
        "#cm_tfidf = confusion_matrix(y_test_tfidf, y_pred_tfidf)\n",
        "cm = confusion_matrix(val_labels,model_preds)\n",
        "print(cm)\n",
        "sns.heatmap(cm_tfidf, annot=True, cmap=\"YlGnBu\")"
      ],
      "execution_count": null,
      "outputs": [
        {
          "output_type": "stream",
          "name": "stdout",
          "text": [
            "[[4304   21]\n",
            " [  67 4588]]\n"
          ]
        },
        {
          "output_type": "execute_result",
          "data": {
            "text/plain": [
              "<matplotlib.axes._subplots.AxesSubplot at 0x7f97220c95d0>"
            ]
          },
          "metadata": {},
          "execution_count": 50
        },
        {
          "output_type": "display_data",
          "data": {
            "image/png": "[encoded data removed]",
            "text/plain": [
              "<Figure size 432x288 with 2 Axes>"
            ]
          },
          "metadata": {
            "needs_background": "light"
          }
        }
      ]
    },
    {
      "cell_type": "code",
      "metadata": {
        "id": "Y7YT95tMpUwy"
      },
      "source": [
        ""
      ],
      "execution_count": null,
      "outputs": []
    }
  ]
}